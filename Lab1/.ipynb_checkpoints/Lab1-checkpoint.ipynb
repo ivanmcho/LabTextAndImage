{
 "cells": [
  {
   "cell_type": "markdown",
   "id": "66a55f0d-3f98-460d-b781-c41c7c279bc1",
   "metadata": {},
   "source": [
    "# Laboratorio 1"
   ]
  },
  {
   "cell_type": "markdown",
   "id": "8fd148e8-9ec5-4e93-9820-bf53193c4d58",
   "metadata": {},
   "source": [
    "### Marcos Iván Hernandez"
   ]
  },
  {
   "cell_type": "markdown",
   "id": "6a535cc7-e37b-471d-ac6e-3198fc23d04a",
   "metadata": {},
   "source": [
    "## Ejercicio 1"
   ]
  },
  {
   "cell_type": "code",
   "execution_count": 9,
   "id": "ab40ad72-836c-4f3e-995e-639c36e0a468",
   "metadata": {},
   "outputs": [
    {
     "data": {
      "text/plain": [
       "-1"
      ]
     },
     "execution_count": 9,
     "metadata": {},
     "output_type": "execute_result"
    }
   ],
   "source": [
    "import cv2\n",
    "import numpy as np\n",
    "\n",
    "def manipular_color(imagen, color):\n",
    "    # Separar los canales de color\n",
    "    b, g, r = cv2.split(imagen)\n",
    "    \n",
    "    # Crear una imagen de ceros del mismo tamaño\n",
    "    resultado = np.zeros_like(imagen)\n",
    "    \n",
    "    if color == 1:\n",
    "        resultado[:,:,0] = b  # Solo canal azul\n",
    "    elif color == 2:\n",
    "        resultado[:,:,1] = g  # Solo canal verde\n",
    "    elif color == 3:\n",
    "        resultado[:,:,2] = r  # Solo canal rojo\n",
    "    elif color == 10:\n",
    "        resultado[:,:,1] = g  # Verde\n",
    "        resultado[:,:,2] = r  # Rojo\n",
    "    elif color == 20:\n",
    "        resultado[:,:,0] = b  # Azul\n",
    "        resultado[:,:,1] = g  # Verde\n",
    "    elif color == 30:\n",
    "        resultado[:,:,0] = b  # Azul\n",
    "        resultado[:,:,2] = r  # Rojo\n",
    "    \n",
    "    return resultado\n",
    "\n",
    "# Uso de la función:\n",
    "imagen = cv2.imread('Perrito.jpg') \n",
    "resultado = manipular_color(imagen, 1)\n",
    "cv2.imshow('Resultado', resultado)\n",
    "cv2.waitKey(0)"
   ]
  },
  {
   "cell_type": "markdown",
   "id": "e52fae3e-7b9b-42e7-b688-a4da328be734",
   "metadata": {},
   "source": [
    "## Ejercicio 2"
   ]
  },
  {
   "cell_type": "code",
   "execution_count": 33,
   "id": "d8132cb4-02a7-4adb-b105-cd336fe8b2ba",
   "metadata": {},
   "outputs": [],
   "source": [
    "def reconstruir_imagen_color(imagen1, imagen2, imagen3):\n",
    "    imagen_color = cv2.merge((imagen1, imagen2, imagen3))\n",
    "    return imagen_color\n",
    "\n",
    "# Lista de conjuntos de imágenes a procesar\n",
    "conjuntos_imagenes = [\n",
    "    ('imagen1/imagen1_salida_gray_azul.jpg', 'imagen1/imagen1_salida_gray_verde.jpg', 'imagen1/imagen1_salida_gray_rojo.jpg'),\n",
    "    ('imagen2/imagen2_salida_gray_azul.jpg', 'imagen2/imagen2_salida_gray_rojo.jpg', 'imagen2/imagen2_salida_gray_rojo.jpg'),\n",
    "    # Añade más conjuntos según sea necesario\n",
    "]\n",
    "\n",
    "\n",
    "for i, (azul, verde, rojo) in enumerate(conjuntos_imagenes):\n",
    "    img1 = cv2.imread(azul, 0)\n",
    "    img2 = cv2.imread(verde, 0)\n",
    "    img3 = cv2.imread(rojo, 0)\n",
    "    \n",
    "    resultado = reconstruir_imagen_color(img1, img2, img3)\n",
    "    \n",
    "    # Guardar la imagen resultante\n",
    "    cv2.imwrite(f'imagen_reconstruida_{i+1}.jpg', resultado)\n",
    "    \n",
    "    # Mostrar la imagen (opcional)\n",
    "    cv2.imshow(f'Imagen Reconstruida {i+1}', resultado)\n",
    "    cv2.waitKey(0)\n",
    "    \n",
    "    # Limpieza opcional\n",
    "    del resultado\n",
    "    cv2.destroyAllWindows()"
   ]
  }
 ],
 "metadata": {
  "kernelspec": {
   "display_name": "Python 3 (ipykernel)",
   "language": "python",
   "name": "python3"
  },
  "language_info": {
   "codemirror_mode": {
    "name": "ipython",
    "version": 3
   },
   "file_extension": ".py",
   "mimetype": "text/x-python",
   "name": "python",
   "nbconvert_exporter": "python",
   "pygments_lexer": "ipython3",
   "version": "3.12.4"
  }
 },
 "nbformat": 4,
 "nbformat_minor": 5
}
